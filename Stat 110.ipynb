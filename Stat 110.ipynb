{
 "cells": [
  {
   "cell_type": "code",
   "execution_count": 4,
   "metadata": {},
   "outputs": [],
   "source": [
    "import scipy.stats as sp\n",
    "import numpy as np\n",
    "from statsmodels import distributions\n",
    "import matplotlib.pyplot as plt"
   ]
  },
  {
   "cell_type": "code",
   "execution_count": 5,
   "metadata": {},
   "outputs": [],
   "source": [
    "number_of_trials = 10000\n"
   ]
  },
  {
   "cell_type": "markdown",
   "metadata": {},
   "source": [
    "# Law of Large Numbers"
   ]
  },
  {
   "cell_type": "code",
   "execution_count": 95,
   "metadata": {},
   "outputs": [],
   "source": [
    "rv = sp.beta(5,5)\n"
   ]
  },
  {
   "cell_type": "code",
   "execution_count": 96,
   "metadata": {},
   "outputs": [
    {
     "data": {
      "text/plain": [
       "array([0.39196384, 0.5       , 0.60803616])"
      ]
     },
     "execution_count": 96,
     "metadata": {},
     "output_type": "execute_result"
    }
   ],
   "source": [
    "rv.ppf([.25,.5,.75])"
   ]
  },
  {
   "cell_type": "code",
   "execution_count": 97,
   "metadata": {},
   "outputs": [
    {
     "name": "stdout",
     "output_type": "stream",
     "text": [
      "0.38\n",
      "0.49\n",
      "0.6\n"
     ]
    }
   ],
   "source": [
    "r = np.sort(np.round(rv.rvs(size=number_of_trials),2))\n",
    "#print(r)\n",
    "print(r[int(np.ceil((number_of_trials/(1/.25))))])\n",
    "print(r[int(np.ceil((number_of_trials/(1/.5))))])\n",
    "print(r[int(np.ceil((number_of_trials/(1/.75))))])\n"
   ]
  },
  {
   "cell_type": "markdown",
   "metadata": {},
   "source": [
    "# Hypogeometric"
   ]
  },
  {
   "cell_type": "markdown",
   "metadata": {},
   "source": [
    "This is sample W/O replacement; standard notation is [K = amount of ouctomes we want in population, N = Amount of Others in population, n = samples takne]"
   ]
  },
  {
   "cell_type": "code",
   "execution_count": 20,
   "metadata": {},
   "outputs": [
    {
     "data": {
      "image/png": "[encoded data removed]",
      "text/plain": [
       "<Figure size 432x288 with 1 Axes>"
      ]
     },
     "metadata": {
      "needs_background": "light"
     },
     "output_type": "display_data"
    },
    {
     "name": "stdout",
     "output_type": "stream",
     "text": [
      "36\n",
      "8\n"
     ]
    },
    {
     "data": {
      "text/plain": [
       "array([ -1.,  18.,  20.,  22., 100.])"
      ]
     },
     "execution_count": 20,
     "metadata": {},
     "output_type": "execute_result"
    }
   ],
   "source": [
    "[M, n, N] = [500, 100, 100] #First is the Number of Total Balls in Population, Second is the Number of Successes, Third is the number of draws\n",
    "rv = sp.hypergeom(M, n, N)\n",
    "x = np.arange(0, n+1)\n",
    "pmf_dogs = rv.pmf(x)\n",
    "\n",
    "fig = plt.figure()\n",
    "ax = fig.add_subplot(111)\n",
    "ax.plot(x, pmf_dogs, 'bo')\n",
    "ax.vlines(x, 0, pmf_dogs, lw=2)\n",
    "ax.set_xlabel('# of dogs in our group of chosen animals')\n",
    "ax.set_ylabel('hypergeom PMF')\n",
    "plt.show()\n",
    "sample = np.sort(np.round(rv.rvs(size=number_of_trials),2))\n",
    "print(np.max(sample))\n",
    "print(np.min(sample))\n",
    "rv.ppf([0.0,.25,.5,.75,1])\n"
   ]
  },
  {
   "cell_type": "markdown",
   "metadata": {},
   "source": [
    "# Geometric "
   ]
  },
  {
   "cell_type": "code",
   "execution_count": 99,
   "metadata": {},
   "outputs": [
    {
     "data": {
      "image/png": "[encoded data removed]",
      "text/plain": [
       "<Figure size 432x288 with 1 Axes>"
      ]
     },
     "metadata": {
      "needs_background": "light"
     },
     "output_type": "display_data"
    },
    {
     "name": "stdout",
     "output_type": "stream",
     "text": [
      "42\n",
      "1\n"
     ]
    },
    {
     "data": {
      "text/plain": [
       "array([  1.,   3.,   7.,  14., 285.])"
      ]
     },
     "execution_count": 99,
     "metadata": {},
     "output_type": "execute_result"
    }
   ],
   "source": [
    "rv = sp.geom(.1)\n",
    "x = np.arange(0, n+1)\n",
    "pmf_dogs = rv.pmf(x)\n",
    "\n",
    "fig = plt.figure()\n",
    "ax = fig.add_subplot(111)\n",
    "ax.plot(x, pmf_dogs, 'bo')\n",
    "ax.vlines(x, 0, pmf_dogs, lw=2)\n",
    "ax.set_ylabel('Geom PMF')\n",
    "plt.show()\n",
    "sample = np.sort(np.round(rv.rvs(size=number_of_trials),2))\n",
    "print(np.max(sample))\n",
    "print(np.min(sample))\n",
    "rv.ppf([0.0000000000001,.25,.5,.75,.9999999999999])"
   ]
  },
  {
   "cell_type": "markdown",
   "metadata": {},
   "source": [
    "# Negative binomial distribution"
   ]
  },
  {
   "cell_type": "code",
   "execution_count": 100,
   "metadata": {},
   "outputs": [
    {
     "data": {
      "image/png": "[encoded data removed]",
      "text/plain": [
       "<Figure size 432x288 with 1 Axes>"
      ]
     },
     "metadata": {
      "needs_background": "light"
     },
     "output_type": "display_data"
    },
    {
     "name": "stdout",
     "output_type": "stream",
     "text": [
      "76\n",
      "1\n",
      "21.5\n"
     ]
    },
    {
     "data": {
      "text/plain": [
       "array([  0.,  15.,  24.,  36., 345.])"
      ]
     },
     "execution_count": 100,
     "metadata": {},
     "output_type": "execute_result"
    }
   ],
   "source": [
    "rv = sp.nbinom(3,.1)\n",
    "x = np.arange(0, n+1)\n",
    "pmf_dogs = rv.pmf(x)\n",
    "\n",
    "fig = plt.figure()\n",
    "ax = fig.add_subplot(111)\n",
    "ax.plot(x, pmf_dogs, 'bo')\n",
    "ax.vlines(x, 0, pmf_dogs, lw=2)\n",
    "ax.set_ylabel('Geom PMF')\n",
    "plt.show()\n",
    "sample = rv.rvs(size=number_of_trials)\n",
    "print(np.max(sample))\n",
    "print(np.min(sample))\n",
    "print(np.median(sample))\n",
    "rv.ppf([0.0000000000001,.25,.5,.75,.9999999999999])"
   ]
  },
  {
   "cell_type": "markdown",
   "metadata": {},
   "source": [
    "# Exponential and Poisson"
   ]
  },
  {
   "cell_type": "code",
   "execution_count": 101,
   "metadata": {},
   "outputs": [],
   "source": [
    "lambda_ = 5"
   ]
  },
  {
   "cell_type": "code",
   "execution_count": 117,
   "metadata": {},
   "outputs": [
    {
     "data": {
      "image/png": "[encoded data removed]",
      "text/plain": [
       "<Figure size 432x288 with 1 Axes>"
      ]
     },
     "metadata": {
      "needs_background": "light"
     },
     "output_type": "display_data"
    },
    {
     "name": "stdout",
     "output_type": "stream",
     "text": [
      "15\n",
      "0\n",
      "5.0\n"
     ]
    },
    {
     "data": {
      "text/plain": [
       "array([ 0.,  3.,  5.,  6., 29.])"
      ]
     },
     "execution_count": 117,
     "metadata": {},
     "output_type": "execute_result"
    }
   ],
   "source": [
    "rv = sp.poisson(lambda_)\n",
    "x = np.arange(0, n+1)\n",
    "pmf_dogs = rv.pmf(x)\n",
    "\n",
    "fig = plt.figure()\n",
    "ax = fig.add_subplot(111)\n",
    "ax.plot(x, pmf_dogs, 'bo')\n",
    "ax.vlines(x, 0, pmf_dogs, lw=2)\n",
    "ax.set_ylabel('Geom PMF')\n",
    "plt.show()\n",
    "sample = rv.rvs(size=number_of_trials)\n",
    "print(np.max(sample))\n",
    "print(np.min(sample))\n",
    "print(np.median(sample))\n",
    "rv.ppf([0.0000000000001,.25,.5,.75,.9999999999999])"
   ]
  },
  {
   "cell_type": "markdown",
   "metadata": {},
   "source": [
    "https://stats.stackexchange.com/questions/2092/relationship-between-poisson-and-exponential-distribution\n",
    "The other answers do a good job of explaining the math. I think it helps to consider a physical example. When I think about a Poisson process, I always come back to the idea of cars passing on a road. Lambda is the average number of cars that pass per unit of time, let's say 60/hour (lambda = 60). We know, however, that the actual number will vary - some days more, some days less. The Poisson Distribution allows us to model this variability.\n",
    "\n",
    "Now, an average of 60 cars per hour equates to an average of 1 car passing by each minute. Again though, we know there's going to be variability in the amount of time between arrivals: Sometimes more than 1 minute; other times less. The Exponential Distribution allows us to model this variability.\n",
    "\n",
    "All that being said, cars passing by on a road won't always follow a Poisson Process. If there's a traffic signal just around the corner, for example, arrivals are going to be bunched up instead of steady. On an open highway, a slow tractor-trailer may hold up a long line of cars, again causing bunching. In these cases, the Poisson Distribution may still work okay for longer time periods, but the exponential will fail badly in modeling arrival times.\n",
    "\n",
    "Note also that there is huge variability based on time of day: busier during commuting times; much slower at 3am. Make sure that your lambda is reflective of the specific time period you are considering."
   ]
  },
  {
   "cell_type": "code",
   "execution_count": 119,
   "metadata": {},
   "outputs": [
    {
     "data": {
      "image/png": "[encoded data removed]",
      "text/plain": [
       "<Figure size 432x288 with 1 Axes>"
      ]
     },
     "metadata": {
      "needs_background": "light"
     },
     "output_type": "display_data"
    },
    {
     "name": "stdout",
     "output_type": "stream",
     "text": [
      "[5.         5.28768207 5.69314718 6.38629436        inf]\n"
     ]
    }
   ],
   "source": [
    "rv = sp.expon(5)\n",
    "x = np.arange(0, n+1)\n",
    "pdf_dogs = rv.pdf(x)\n",
    "\n",
    "fig = plt.figure()\n",
    "ax = fig.add_subplot(111)\n",
    "x = np.linspace(rv.ppf(0.01),rv.ppf(0.99), 100)\n",
    "ax.plot(x, rv.pdf(x),'r-', lw=5, alpha=0.6, label='expon pdf')\n",
    "plt.show()\n",
    "print(rv.ppf([0.000000001,.25,.5,.75,1]))\n",
    "#sample = rv.rvs(10000)\n",
    "#np.min(sample)"
   ]
  },
  {
   "cell_type": "markdown",
   "metadata": {},
   "source": [
    "# Gamma"
   ]
  },
  {
   "cell_type": "code",
   "execution_count": 18,
   "metadata": {},
   "outputs": [
    {
     "data": {
      "image/png": "[encoded data removed]",
      "text/plain": [
       "<Figure size 432x288 with 1 Axes>"
      ]
     },
     "metadata": {
      "needs_background": "light"
     },
     "output_type": "display_data"
    },
    {
     "name": "stdout",
     "output_type": "stream",
     "text": [
      "10000.0\n",
      "100.0\n",
      "[ 9940.1384615   9993.25328685  9999.99666667 10006.7430794\n",
      " 10082.31682068]\n"
     ]
    }
   ],
   "source": [
    "a, b = 1000000, 100\n",
    "rv = sp.gamma(a,scale = 1/b)\n",
    "x = np.arange(0, 100+1)\n",
    "pdf_dogs = rv.pdf(x)\n",
    "fig = plt.figure()\n",
    "ax = fig.add_subplot(111)\n",
    "x = np.linspace(rv.ppf(0.01),rv.ppf(0.99), 100)\n",
    "ax.plot(x, rv.pdf(x),'r-', lw=5, alpha=0.6, label='expon pdf')\n",
    "plt.show()\n",
    "sample = rv.rvs(number_of_trials)\n",
    "print(rv.mean())\n",
    "print(rv.var())\n",
    "print(rv.ppf([0.000000001,.25,.5,.75,.9999999999999999]))"
   ]
  },
  {
   "cell_type": "code",
   "execution_count": null,
   "metadata": {},
   "outputs": [],
   "source": []
  }
 ],
 "metadata": {
  "kernelspec": {
   "display_name": "Python 3",
   "language": "python",
   "name": "python3"
  },
  "language_info": {
   "codemirror_mode": {
    "name": "ipython",
    "version": 3
   },
   "file_extension": ".py",
   "mimetype": "text/x-python",
   "name": "python",
   "nbconvert_exporter": "python",
   "pygments_lexer": "ipython3",
   "version": "3.7.3"
  }
 },
 "nbformat": 4,
 "nbformat_minor": 2
}
